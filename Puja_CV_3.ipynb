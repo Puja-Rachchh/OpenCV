{
 "cells": [
  {
   "cell_type": "markdown",
   "id": "699bf8ac-3d07-4ffa-bfab-d5a664da276e",
   "metadata": {},
   "source": [
    "# Capturing videos  through webcam and mainpulating them"
   ]
  },
  {
   "cell_type": "code",
   "execution_count": 5,
   "id": "b4c1d640-45f6-43da-8d51-8faba2982b36",
   "metadata": {},
   "outputs": [],
   "source": [
    "import numpy as np\n",
    "import cv2\n",
    "\n",
    "#starts video capture throug the no. of camera you entered in parenthesis\n",
    "cap = cv2.VideoCapture(0)\n",
    "\n",
    "while True:\n",
    "    #ret tells if we are able to read the frame or not in case of any malfunction with cameras\n",
    "    #frame returns the numpy array of our captured video\n",
    "    ret, frame= cap.read()\n",
    "    \n",
    "    cv2.imshow('frame', frame)\n",
    "    \n",
    "    #video is captured till we press q\n",
    "    if cv2.waitKey(1)==ord('q'):\n",
    "        break\n",
    "\n",
    "cap.release()\n",
    "cv2.destroyAllWindows()\n"
   ]
  },
  {
   "cell_type": "markdown",
   "id": "116ae2c9-b2c0-4349-9151-7d873ad9bc1a",
   "metadata": {},
   "source": [
    "# Manipulating the video captured:\n",
    "### Here we have made 4 frames and performed rotation on it"
   ]
  },
  {
   "cell_type": "code",
   "execution_count": 15,
   "id": "61d79d68-d7c6-47ac-9ff5-791b3926ffab",
   "metadata": {},
   "outputs": [],
   "source": [
    "import numpy as np\n",
    "import cv2\n",
    "\n",
    "#starts video capture throug the no. of camera you entered in parenthesis\n",
    "cap = cv2.VideoCapture(0)\n",
    "\n",
    "while True:\n",
    "    #ret tells if we are able to read the frame or not in case of any malfunction with cameras\n",
    "    #frame returns the numpy array of our captured video\n",
    "    ret, frame= cap.read()\n",
    "\n",
    "    #cap.get(3) is the index 3 of the 17 properties which gives us width same with height=4\n",
    "    width = int(cap.get(3))\n",
    "    height = int(cap.get(4))\n",
    "    \n",
    "    # Making a frame for manipulation:\n",
    "    image = np.zeros(frame.shape, np.uint8)\n",
    "    small = cv2.resize(frame, (0,0), fx=0.5, fy=0.5)\n",
    "\n",
    "    image[:height//2 , :width//2] =small #topleft\n",
    "    image[:height//2 , width//2:] =small #top right\n",
    "    image[height//2: , :width//2] =cv2.rotate(small, cv2.ROTATE_180)  #bottom left\n",
    "    image[height//2: , width//2:] =cv2.rotate(small, cv2.ROTATE_180) # bottom right\n",
    "    \n",
    "    cv2.imshow('frame', image)\n",
    "    \n",
    "    #video is captured till we press q\n",
    "    if cv2.waitKey(1)==ord('q'):\n",
    "        break\n",
    "\n",
    "cap.release()\n",
    "cv2.destroyAllWindows()"
   ]
  },
  {
   "cell_type": "code",
   "execution_count": null,
   "id": "085ffe85-036f-4922-a7cf-8c62e046b077",
   "metadata": {},
   "outputs": [],
   "source": []
  },
  {
   "cell_type": "code",
   "execution_count": null,
   "id": "6dbc4a6b-823b-4aaf-bb15-f6aed1207b03",
   "metadata": {},
   "outputs": [],
   "source": []
  }
 ],
 "metadata": {
  "kernelspec": {
   "display_name": "Python 3 (ipykernel)",
   "language": "python",
   "name": "python3"
  },
  "language_info": {
   "codemirror_mode": {
    "name": "ipython",
    "version": 3
   },
   "file_extension": ".py",
   "mimetype": "text/x-python",
   "name": "python",
   "nbconvert_exporter": "python",
   "pygments_lexer": "ipython3",
   "version": "3.12.4"
  }
 },
 "nbformat": 4,
 "nbformat_minor": 5
}
