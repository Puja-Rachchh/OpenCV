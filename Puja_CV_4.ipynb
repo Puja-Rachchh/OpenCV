{
 "cells": [
  {
   "cell_type": "markdown",
   "id": "17271f2e-beec-4836-8ba1-d08e5db98caf",
   "metadata": {},
   "source": [
    "# Dawing in openCV\n",
    "- in openCV the coordinate system is reverse of normal\n",
    "- (0,0) represents the top left corner x axis is horizonatal and y axis is vertical"
   ]
  },
  {
   "cell_type": "code",
   "execution_count": 42,
   "id": "341627f0-797b-42f1-aba1-72f01e886b53",
   "metadata": {},
   "outputs": [],
   "source": [
    "import numpy as np\n",
    "import cv2\n",
    "\n",
    "#starts video capture throug the no. of camera you entered in parenthesis\n",
    "cap = cv2.VideoCapture(0)\n",
    "\n",
    "while True:\n",
    "    #ret tells if we are able to read the frame or not in case of any malfunction with cameras\n",
    "    #frame returns the numpy array of our captured video\n",
    "    ret, frame= cap.read()\n",
    "    #cap.get(3) is the index 3 of the 17 properties which gives us width same with height=4\n",
    "    width = int(cap.get(3))\n",
    "    height = int(cap.get(4))\n",
    "    \n",
    "    #Drawing line(name,start, end of line,colour of line,width or pixels of line)\n",
    "    img=cv2.line(frame, (0,0), (width, height), (255,0,0),10)\n",
    "    img=cv2.line(frame, (0,height), (width, 0), (255,0,0),10)\n",
    "\n",
    "    #Drawing rectangle(name,topright corne,botttom left,colour,thickness(-1 for filling))\n",
    "    img=cv2.rectangle(img, (300,200), (500,500), (0,0,0),5)\n",
    "\n",
    "    #Drawing circle(name,centre position, radius,colour,thickness)\n",
    "    img=cv2.circle(img,(300,200),50,(0,0,255),-1)\n",
    "\n",
    "    #Inserting text:\n",
    "    #first we need to pick up fonts:\n",
    "    font=cv2.FONT_HERSHEY_COMPLEX\n",
    "    #puts text(source imahe,text,positon,fonts,scale(magnif))\n",
    "    img= cv2.putText(img,\"Hello Puja!\", (10,height-50), font, 2, (0,0,0), 5, cv2.LINE_AA)\n",
    "    \n",
    "    cv2.imshow('frame', img)\n",
    "    \n",
    "    #video is captured till we press q\n",
    "    if cv2.waitKey(1)==ord('q'):\n",
    "        break\n",
    "\n",
    "cap.release()\n",
    "cv2.destroyAllWindows()"
   ]
  },
  {
   "cell_type": "code",
   "execution_count": null,
   "id": "59031222-3b78-4ac8-9ee1-b5e2dc06f21f",
   "metadata": {},
   "outputs": [],
   "source": []
  }
 ],
 "metadata": {
  "kernelspec": {
   "display_name": "Python 3 (ipykernel)",
   "language": "python",
   "name": "python3"
  },
  "language_info": {
   "codemirror_mode": {
    "name": "ipython",
    "version": 3
   },
   "file_extension": ".py",
   "mimetype": "text/x-python",
   "name": "python",
   "nbconvert_exporter": "python",
   "pygments_lexer": "ipython3",
   "version": "3.12.4"
  }
 },
 "nbformat": 4,
 "nbformat_minor": 5
}
