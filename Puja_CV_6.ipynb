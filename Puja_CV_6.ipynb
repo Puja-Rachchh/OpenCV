{
 "cells": [
  {
   "cell_type": "markdown",
   "id": "e356cb27-9e7b-4e95-a2b0-9c6ffcf549c3",
   "metadata": {},
   "source": [
    "# Corner Detection\n",
    "- we will use Shi-Tomasi corner detector and good features to track algorithm"
   ]
  },
  {
   "cell_type": "code",
   "execution_count": 34,
   "id": "54ed4c78-4012-495b-9784-4143db02c4ec",
   "metadata": {},
   "outputs": [
    {
     "name": "stderr",
     "output_type": "stream",
     "text": [
      "C:\\Users\\ASAA\\AppData\\Local\\Temp\\ipykernel_17540\\2175223661.py:11: DeprecationWarning: `np.int0` is a deprecated alias for `np.intp`.  (Deprecated NumPy 1.24)\n",
      "  corners = np.int0(corner)\n"
     ]
    }
   ],
   "source": [
    "import numpy as np\n",
    "import cv2\n",
    "\n",
    "img = cv2.imread('Desktop/Jupyter/open_cv/chessboard.png',-1)\n",
    "img = cv2.resize(img, (0, 0),fx=0.5, fy=0.5)\n",
    "#Changing it to gray scale for easy detection\n",
    "gray = cv2.cvtColor(img, cv2.COLOR_BGR2GRAY)\n",
    "\n",
    "#goodFeaturesToTrack(sourcwe img,no. of corners,accuracy or quality, minimum euclidian distance)\n",
    "corner= cv2.goodFeaturesToTrack(gray, 100, 0.5, 10)\n",
    "corners = np.int0(corner)\n",
    "\n",
    "for corner in corners:\n",
    "    x,y = corner.ravel() #flattens the array and assigns its values to x, y\n",
    "    cv2.circle(img,(x,y), 5, (0,0,255),-1)\n",
    "\n",
    "\n",
    "cv2.imshow('Chess', img)\n",
    "cv2.waitKey(0)\n",
    "cv2.destroyAllWindows()"
   ]
  },
  {
   "cell_type": "code",
   "execution_count": null,
   "id": "37703a48-3fa5-49da-a117-af611be8e46b",
   "metadata": {},
   "outputs": [],
   "source": []
  }
 ],
 "metadata": {
  "kernelspec": {
   "display_name": "Python 3 (ipykernel)",
   "language": "python",
   "name": "python3"
  },
  "language_info": {
   "codemirror_mode": {
    "name": "ipython",
    "version": 3
   },
   "file_extension": ".py",
   "mimetype": "text/x-python",
   "name": "python",
   "nbconvert_exporter": "python",
   "pygments_lexer": "ipython3",
   "version": "3.12.4"
  }
 },
 "nbformat": 4,
 "nbformat_minor": 5
}
