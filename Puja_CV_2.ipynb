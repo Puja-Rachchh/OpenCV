{
 "cells": [
  {
   "cell_type": "markdown",
   "id": "70ee3ae8-1990-4935-b931-e7a307b15ad4",
   "metadata": {},
   "source": [
    "### More about images\n",
    "- all the images are stored as ndarrays of numpy library\n",
    "- when you use img.shape you get 3 things:   \n",
    "-- height(no. of rows)\n",
    "-- width(no. of columns)\n",
    "-- channels(blue ,green ,red)\n",
    "- values are allowed in range(0-255) 0 represnts black 255 represents black"
   ]
  },
  {
   "cell_type": "code",
   "execution_count": 78,
   "id": "1e0e24b6-4a24-4acf-aec0-b686b64b8e7f",
   "metadata": {},
   "outputs": [
    {
     "name": "stdout",
     "output_type": "stream",
     "text": [
      "(1024, 1024, 3)\n",
      "[2 0 0]\n"
     ]
    }
   ],
   "source": [
    "import cv2\n",
    "\n",
    "img=cv2.imread('photo.jpg',1)\n",
    "type(img)\n",
    "print(img.shape)\n",
    "print(img[100][45])"
   ]
  },
  {
   "cell_type": "code",
   "execution_count": 82,
   "id": "1203736c-f374-48b4-b595-8ba8ff4ea593",
   "metadata": {},
   "outputs": [],
   "source": [
    "import cv2\n",
    "\n",
    "img=cv2.imread('photo.jpg',1)\n",
    "img = cv2.resize(img, (0, 0),fx=0.5, fy=0.5)\n",
    "for i in range(100):#first 100 rows\n",
    "    for j in range(img.shape[1]): #for all columns in that image:\n",
    "        img[i][j]=[0,0,0] # this will make all pixels black\n",
    "    \n",
    "\n",
    "cv2.imshow('Image' ,img)\n",
    "cv2.waitKey(0)\n",
    "cv2.destroyAllWindows()"
   ]
  },
  {
   "cell_type": "markdown",
   "id": "ec82b730-4c6c-411f-b7b9-0cd04441ec64",
   "metadata": {},
   "source": [
    "# How to copy one part of image to another:"
   ]
  },
  {
   "cell_type": "code",
   "execution_count": 106,
   "id": "5b7a4b01-adf9-462e-8d1c-eba9b03a9ad4",
   "metadata": {},
   "outputs": [],
   "source": [
    "import cv2\n",
    "\n",
    "img=cv2.imread('photo.jpg',1)\n",
    "img = cv2.resize(img, (0, 0),fx=0.5, fy=0.5)\n",
    "tag= img[0:400, 600:900]\n",
    "img[100:500 , 750:1050]= tag\n",
    "\n",
    "cv2.imshow('Image' ,img)\n",
    "cv2.waitKey(0)\n",
    "cv2.destroyAllWindows()"
   ]
  }
 ],
 "metadata": {
  "kernelspec": {
   "display_name": "Python 3 (ipykernel)",
   "language": "python",
   "name": "python3"
  },
  "language_info": {
   "codemirror_mode": {
    "name": "ipython",
    "version": 3
   },
   "file_extension": ".py",
   "mimetype": "text/x-python",
   "name": "python",
   "nbconvert_exporter": "python",
   "pygments_lexer": "ipython3",
   "version": "3.12.4"
  }
 },
 "nbformat": 4,
 "nbformat_minor": 5
}
