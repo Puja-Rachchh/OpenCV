{
 "cells": [
  {
   "cell_type": "markdown",
   "id": "e4567057-8fcd-4681-a394-2499a9497a5d",
   "metadata": {},
   "source": [
    "# Object Detection\n",
    "- It is important that the objects we want to  match are of nearly same size of easy detection"
   ]
  },
  {
   "cell_type": "code",
   "execution_count": 27,
   "id": "9a60a0e8-34f1-4ddc-9721-95a727c8bf51",
   "metadata": {},
   "outputs": [],
   "source": [
    "import numpy as np\n",
    "import cv2\n",
    "\n",
    "img = cv2.imread('soccer_practice.jpg',0)\n",
    "img= cv2.resize(img, (0,0),fx=0.5,fy=0.5)\n",
    "template = cv2.imread('ball.PNG',0)\n",
    "template = cv2.resize(template, (0,0), fx=0.5, fy=0.5)\n",
    "\n",
    "img2 = img.copy()\n",
    "h, w = template.shape\n",
    "methods = [cv2.TM_CCOEFF, cv2.TM_CCOEFF_NORMED, cv2.TM_CCORR,\n",
    "            cv2.TM_CCORR_NORMED, cv2.TM_SQDIFF, cv2.TM_SQDIFF_NORMED]\n",
    "\n",
    "for method in methods:\n",
    "    img2 = img.copy()\n",
    "\n",
    "    result = cv2.matchTemplate(img2, template, method)\n",
    "    min_val, max_val, min_loc, max_loc = cv2.minMaxLoc(result)\n",
    "    if method in [cv2.TM_SQDIFF, cv2.TM_SQDIFF_NORMED]:\n",
    "        location = min_loc\n",
    "    else:\n",
    "        location = max_loc\n",
    "\n",
    "    bottom_right = (location[0] + w, location[1] + h)    \n",
    "    cv2.rectangle(img2, location, bottom_right, 255, 5)\n",
    "    cv2.imshow('Match', img2)\n",
    "    cv2.waitKey(0)\n",
    "    cv2.destroyAllWindows()"
   ]
  }
 ],
 "metadata": {
  "kernelspec": {
   "display_name": "Python 3 (ipykernel)",
   "language": "python",
   "name": "python3"
  },
  "language_info": {
   "codemirror_mode": {
    "name": "ipython",
    "version": 3
   },
   "file_extension": ".py",
   "mimetype": "text/x-python",
   "name": "python",
   "nbconvert_exporter": "python",
   "pygments_lexer": "ipython3",
   "version": "3.12.4"
  }
 },
 "nbformat": 4,
 "nbformat_minor": 5
}
