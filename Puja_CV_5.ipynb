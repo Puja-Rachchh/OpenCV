{
 "cells": [
  {
   "cell_type": "markdown",
   "id": "dc8fd64e-46ef-40b5-aec1-8928bdd5bdac",
   "metadata": {},
   "source": [
    "# Colour and colour detection\n",
    "- we need to convert our frame to HSV colur scheme\n",
    "- HSV stands for Hue Saturation and lightness/brightness\n"
   ]
  },
  {
   "cell_type": "code",
   "execution_count": 17,
   "id": "70394793-320e-4273-903d-b7d619f9e7a3",
   "metadata": {},
   "outputs": [],
   "source": [
    "import numpy as np\n",
    "import cv2\n",
    "\n",
    "#starts video capture throug the no. of camera you entered in parenthesis\n",
    "cap = cv2.VideoCapture(0)\n",
    "\n",
    "while True:\n",
    "    #ret tells if we are able to read the frame or not in case of any malfunction with cameras\n",
    "    #frame returns the numpy array of our captured video\n",
    "    ret, frame= cap.read()\n",
    "     #cap.get(3) is the index 3 of the 17 properties which gives us width same with height=4\n",
    "    width = int(cap.get(3))\n",
    "    height = int(cap.get(4))\n",
    "\n",
    "    hsv= cv2.cvtColor(frame, cv2.COLOR_BGR2HSV)\n",
    "    #Setting upper and lower bound for blue colour that we want to detect\n",
    "    lower_blue = np.array([90,50,50])\n",
    "    upper_blue = np.array([130,255,255])\n",
    "\n",
    "    #masking only the blue value\n",
    "    mask = cv2.inRange(hsv, lower_blue, upper_blue)\n",
    "\n",
    "    #frame where blue colur matches\n",
    "    result = cv2.bitwise_and(frame, frame, mask=mask)\n",
    "\n",
    "    cv2.imshow('frame', result)\n",
    "    \n",
    "    #cv2.imshow('frame', hsv)\n",
    "    \n",
    "    #video is captured till we press q\n",
    "    if cv2.waitKey(1)==ord('q'):\n",
    "        break\n",
    "\n",
    "cap.release()\n",
    "cv2.destroyAllWindows()"
   ]
  }
 ],
 "metadata": {
  "kernelspec": {
   "display_name": "Python 3 (ipykernel)",
   "language": "python",
   "name": "python3"
  },
  "language_info": {
   "codemirror_mode": {
    "name": "ipython",
    "version": 3
   },
   "file_extension": ".py",
   "mimetype": "text/x-python",
   "name": "python",
   "nbconvert_exporter": "python",
   "pygments_lexer": "ipython3",
   "version": "3.12.4"
  }
 },
 "nbformat": 4,
 "nbformat_minor": 5
}
