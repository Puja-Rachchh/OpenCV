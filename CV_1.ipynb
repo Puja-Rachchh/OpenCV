{
 "cells": [
  {
   "cell_type": "markdown",
   "id": "1b731e0a-3828-46c5-8575-803d0e33718a",
   "metadata": {},
   "source": [
    "firstly install open cv \n",
    "import it as cv2\n",
    "load image using cv2.imread() the parameters will be path or name of your image and the scale :\n",
    "1: it reprents the real image \n",
    "0:representsimage in gray scale\n",
    "-1: represents real image but with transperncy values"
   ]
  },
  {
   "cell_type": "code",
   "execution_count": 9,
   "id": "81c8c269-6f2e-4ddb-b80c-115644b434e3",
   "metadata": {},
   "outputs": [],
   "source": [
    "import cv2\n",
    "\n",
    "#Loading the image\n",
    "img = cv2.imread('photo.jpg', -1)\n",
    "\n",
    "# we can either specify pixels like(400,400) or write like this:\n",
    "img = cv2.resize(img, (0, 0),fx=0.5, fy=0.5)\n",
    "\n",
    "# we can rotate the images by following commands:\n",
    "img = cv2.rotate(img, cv2.ROTATE_90_CLOCKWISE)\n",
    "\n",
    "cv2.imwrite('new_img.jpg', img)\n",
    "\n",
    "cv2.imshow('Image', img)\n",
    "cv2.waitKey(0)\n",
    "cv2.destroyAllWindows()"
   ]
  }
 ],
 "metadata": {
  "kernelspec": {
   "display_name": "Python 3 (ipykernel)",
   "language": "python",
   "name": "python3"
  },
  "language_info": {
   "codemirror_mode": {
    "name": "ipython",
    "version": 3
   },
   "file_extension": ".py",
   "mimetype": "text/x-python",
   "name": "python",
   "nbconvert_exporter": "python",
   "pygments_lexer": "ipython3",
   "version": "3.12.4"
  }
 },
 "nbformat": 4,
 "nbformat_minor": 5
}
